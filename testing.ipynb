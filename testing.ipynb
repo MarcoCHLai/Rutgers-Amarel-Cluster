{
 "cells": [
  {
   "cell_type": "code",
   "execution_count": 1,
   "metadata": {},
   "outputs": [],
   "source": [
    "import os, mne\n",
    "import matplotlib.pyplot as plt\n",
    "import numpy as np\n",
    "import pandas as pd"
   ]
  },
  {
   "cell_type": "code",
   "execution_count": 12,
   "metadata": {},
   "outputs": [
    {
     "name": "stdout",
     "output_type": "stream",
     "text": [
      "Opening raw data file /home/cl2030/project/Podcast_ECoG/derivatives/ecogprep/sub-02/ieeg/sub-02_task-podcast_ieeg.fif...\n",
      "    Range : 0 ... 921599 =      0.000 ...  1799.998 secs\n",
      "Ready.\n"
     ]
    }
   ],
   "source": [
    "sid = 'sub-02'\n",
    "main_dir = '/home/cl2030/project/Podcast_ECoG/'\n",
    "fname = os.path.join(main_dir, 'derivatives', 'ecogprep', '%s', 'ieeg', '%s_task-podcast_ieeg.fif')%(sid, sid)\n",
    "raw = mne.io.read_raw_fif(fname)"
   ]
  },
  {
   "cell_type": "code",
   "execution_count": 13,
   "metadata": {},
   "outputs": [
    {
     "data": {
      "text/html": [
       "<details open>\n",
       "    <summary><strong>General</strong></summary>\n",
       "    <table class=\"table table-hover table-striped table-sm table-responsive small\">\n",
       "        <tr>\n",
       "            <th>Measurement date</th>\n",
       "            \n",
       "            <td>January 01, 2001  01:01:01 GMT</td>\n",
       "            \n",
       "        </tr>\n",
       "        <tr>\n",
       "            <th>Experimenter</th>\n",
       "            \n",
       "            <td>Unknown</td>\n",
       "            \n",
       "        </tr>\n",
       "        <tr>\n",
       "            <th>Participant</th>\n",
       "            \n",
       "            \n",
       "            <td>sub-02</td>\n",
       "            \n",
       "            \n",
       "        </tr>\n",
       "    </table>\n",
       "    </details>\n",
       "    <details open>\n",
       "        <summary><strong>Channels</strong></summary>\n",
       "        <table class=\"table table-hover table-striped table-sm table-responsive small\">\n",
       "            <tr>\n",
       "                <th>Digitized points</th>\n",
       "                \n",
       "                <td>93 points</td>\n",
       "                \n",
       "            </tr>\n",
       "            <tr>\n",
       "                <th>Good channels</th>\n",
       "                <td>90 ECoG</td>\n",
       "            </tr>\n",
       "            <tr>\n",
       "                <th>Bad channels</th>\n",
       "                <td>None</td>\n",
       "            </tr>\n",
       "            <tr>\n",
       "                <th>EOG channels</th>\n",
       "                <td>Not available</td>\n",
       "            </tr>\n",
       "            <tr>\n",
       "                <th>ECG channels</th>\n",
       "                <td>Not available</td>\n",
       "            </tr>\n",
       "        </table>\n",
       "        </details>\n",
       "        <details open>\n",
       "            <summary><strong>Data</strong></summary>\n",
       "            <table class=\"table table-hover table-striped table-sm table-responsive small\">\n",
       "                \n",
       "                <tr>\n",
       "                    <th>Sampling frequency</th>\n",
       "                    <td>512.00 Hz</td>\n",
       "                </tr>\n",
       "                \n",
       "                \n",
       "                <tr>\n",
       "                    <th>Highpass</th>\n",
       "                    <td>0.00 Hz</td>\n",
       "                </tr>\n",
       "                \n",
       "                \n",
       "                <tr>\n",
       "                    <th>Lowpass</th>\n",
       "                    <td>256.00 Hz</td>\n",
       "                </tr>\n",
       "                \n",
       "                \n",
       "                \n",
       "                \n",
       "            </table>\n",
       "            </details>"
      ],
      "text/plain": [
       "<Info | 13 non-empty values\n",
       " bads: []\n",
       " ch_names: PO1, PO2, PO3, PO4, PO5, PO6, O1, O2, O3, O4, SFP1, SFP2, SFP3, ...\n",
       " chs: 90 ECoG\n",
       " custom_ref_applied: True\n",
       " dig: 93 items (3 Cardinal, 90 EEG)\n",
       " file_id: 4 items (dict)\n",
       " highpass: 0.0 Hz\n",
       " line_freq: 60.0\n",
       " lowpass: 256.0 Hz\n",
       " meas_date: 2001-01-01 01:01:01 UTC\n",
       " meas_id: 4 items (dict)\n",
       " nchan: 90\n",
       " projs: []\n",
       " sfreq: 512.0 Hz\n",
       " subject_info: 1 item (dict)\n",
       ">"
      ]
     },
     "execution_count": 13,
     "metadata": {},
     "output_type": "execute_result"
    }
   ],
   "source": [
    "raw.info"
   ]
  },
  {
   "cell_type": "code",
   "execution_count": 14,
   "metadata": {},
   "outputs": [
    {
     "data": {
      "text/plain": [
       "(90, 921600)"
      ]
     },
     "execution_count": 14,
     "metadata": {},
     "output_type": "execute_result"
    }
   ],
   "source": [
    "data = raw.get_data().copy()\n",
    "data.shape"
   ]
  },
  {
   "cell_type": "code",
   "execution_count": 24,
   "metadata": {},
   "outputs": [
    {
     "data": {
      "image/png": "[encoded data removed]",
      "text/plain": [
       "<Figure size 640x640 with 1 Axes>"
      ]
     },
     "metadata": {},
     "output_type": "display_data"
    }
   ],
   "source": [
    "p = raw.plot_sensors(kind='topomap')"
   ]
  },
  {
   "cell_type": "code",
   "execution_count": null,
   "metadata": {},
   "outputs": [],
   "source": [
    "fig, axes = plt.subplots(3, 1, figsize=(20,8))\n",
    "axes[0].plot(data[0,:100000])\n",
    "axes[1].plot(data[1,:100000])\n",
    "axes[2].plot(data[2,:100000])\n",
    "plt.show()"
   ]
  },
  {
   "cell_type": "code",
   "execution_count": null,
   "metadata": {},
   "outputs": [],
   "source": [
    "raw.plot(n_channels=100, duration=10, scalings='auto')\n",
    "plt.show()"
   ]
  },
  {
   "cell_type": "code",
   "execution_count": 28,
   "metadata": {},
   "outputs": [
    {
     "data": {
      "text/html": [
       "<div>\n",
       "<style scoped>\n",
       "    .dataframe tbody tr th:only-of-type {\n",
       "        vertical-align: middle;\n",
       "    }\n",
       "\n",
       "    .dataframe tbody tr th {\n",
       "        vertical-align: top;\n",
       "    }\n",
       "\n",
       "    .dataframe thead th {\n",
       "        text-align: right;\n",
       "    }\n",
       "</style>\n",
       "<table border=\"1\" class=\"dataframe\">\n",
       "  <thead>\n",
       "    <tr style=\"text-align: right;\">\n",
       "      <th></th>\n",
       "      <th>name</th>\n",
       "      <th>x</th>\n",
       "      <th>y</th>\n",
       "      <th>z</th>\n",
       "      <th>size</th>\n",
       "      <th>group</th>\n",
       "    </tr>\n",
       "  </thead>\n",
       "  <tbody>\n",
       "    <tr>\n",
       "      <th>0</th>\n",
       "      <td>PF2</td>\n",
       "      <td>-57.200000</td>\n",
       "      <td>15.600000</td>\n",
       "      <td>30.800000</td>\n",
       "      <td>4.154756</td>\n",
       "      <td>S</td>\n",
       "    </tr>\n",
       "    <tr>\n",
       "      <th>1</th>\n",
       "      <td>PF3</td>\n",
       "      <td>-50.000000</td>\n",
       "      <td>16.666667</td>\n",
       "      <td>40.666667</td>\n",
       "      <td>4.154756</td>\n",
       "      <td>S</td>\n",
       "    </tr>\n",
       "    <tr>\n",
       "      <th>2</th>\n",
       "      <td>PF4</td>\n",
       "      <td>-46.000000</td>\n",
       "      <td>19.000000</td>\n",
       "      <td>49.000000</td>\n",
       "      <td>4.154756</td>\n",
       "      <td>S</td>\n",
       "    </tr>\n",
       "    <tr>\n",
       "      <th>3</th>\n",
       "      <td>PF5</td>\n",
       "      <td>-40.400000</td>\n",
       "      <td>16.800000</td>\n",
       "      <td>57.200000</td>\n",
       "      <td>4.154756</td>\n",
       "      <td>S</td>\n",
       "    </tr>\n",
       "    <tr>\n",
       "      <th>4</th>\n",
       "      <td>PF6</td>\n",
       "      <td>-34.000000</td>\n",
       "      <td>10.666667</td>\n",
       "      <td>64.666667</td>\n",
       "      <td>4.154756</td>\n",
       "      <td>S</td>\n",
       "    </tr>\n",
       "    <tr>\n",
       "      <th>...</th>\n",
       "      <td>...</td>\n",
       "      <td>...</td>\n",
       "      <td>...</td>\n",
       "      <td>...</td>\n",
       "      <td>...</td>\n",
       "      <td>...</td>\n",
       "    </tr>\n",
       "    <tr>\n",
       "      <th>90</th>\n",
       "      <td>DMP6</td>\n",
       "      <td>-17.000000</td>\n",
       "      <td>-52.000000</td>\n",
       "      <td>52.000000</td>\n",
       "      <td>4.154756</td>\n",
       "      <td>D</td>\n",
       "    </tr>\n",
       "    <tr>\n",
       "      <th>91</th>\n",
       "      <td>DMP7</td>\n",
       "      <td>-20.666667</td>\n",
       "      <td>-58.333333</td>\n",
       "      <td>53.000000</td>\n",
       "      <td>4.154756</td>\n",
       "      <td>D</td>\n",
       "    </tr>\n",
       "    <tr>\n",
       "      <th>92</th>\n",
       "      <td>DMP8</td>\n",
       "      <td>-25.333333</td>\n",
       "      <td>-63.000000</td>\n",
       "      <td>54.666667</td>\n",
       "      <td>4.154756</td>\n",
       "      <td>D</td>\n",
       "    </tr>\n",
       "    <tr>\n",
       "      <th>93</th>\n",
       "      <td>DMP9</td>\n",
       "      <td>-28.666667</td>\n",
       "      <td>-66.666667</td>\n",
       "      <td>53.000000</td>\n",
       "      <td>4.154756</td>\n",
       "      <td>D</td>\n",
       "    </tr>\n",
       "    <tr>\n",
       "      <th>94</th>\n",
       "      <td>DMP10</td>\n",
       "      <td>-31.142857</td>\n",
       "      <td>-69.142857</td>\n",
       "      <td>49.142857</td>\n",
       "      <td>4.154756</td>\n",
       "      <td>D</td>\n",
       "    </tr>\n",
       "  </tbody>\n",
       "</table>\n",
       "<p>95 rows × 6 columns</p>\n",
       "</div>"
      ],
      "text/plain": [
       "     name          x          y          z      size group\n",
       "0     PF2 -57.200000  15.600000  30.800000  4.154756     S\n",
       "1     PF3 -50.000000  16.666667  40.666667  4.154756     S\n",
       "2     PF4 -46.000000  19.000000  49.000000  4.154756     S\n",
       "3     PF5 -40.400000  16.800000  57.200000  4.154756     S\n",
       "4     PF6 -34.000000  10.666667  64.666667  4.154756     S\n",
       "..    ...        ...        ...        ...       ...   ...\n",
       "90   DMP6 -17.000000 -52.000000  52.000000  4.154756     D\n",
       "91   DMP7 -20.666667 -58.333333  53.000000  4.154756     D\n",
       "92   DMP8 -25.333333 -63.000000  54.666667  4.154756     D\n",
       "93   DMP9 -28.666667 -66.666667  53.000000  4.154756     D\n",
       "94  DMP10 -31.142857 -69.142857  49.142857  4.154756     D\n",
       "\n",
       "[95 rows x 6 columns]"
      ]
     },
     "execution_count": 28,
     "metadata": {},
     "output_type": "execute_result"
    }
   ],
   "source": [
    "elec_fname = os.path.join(main_dir, '%s', 'ieeg', '%s_space-MNI152NLin2009aSym_electrodes.tsv')%(sid, sid)\n",
    "elec = pd.read_csv(elec_fname, sep='\\t')\n",
    "elec"
   ]
  },
  {
   "cell_type": "code",
   "execution_count": null,
   "metadata": {},
   "outputs": [],
   "source": []
  }
 ],
 "metadata": {
  "kernelspec": {
   "display_name": "Python 3 (ipykernel)",
   "language": "python",
   "name": "python3"
  },
  "language_info": {
   "codemirror_mode": {
    "name": "ipython",
    "version": 3
   },
   "file_extension": ".py",
   "mimetype": "text/x-python",
   "name": "python",
   "nbconvert_exporter": "python",
   "pygments_lexer": "ipython3",
   "version": "3.8.20"
  }
 },
 "nbformat": 4,
 "nbformat_minor": 4
}
